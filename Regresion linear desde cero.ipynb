{
 "cells": [
  {
   "cell_type": "markdown",
   "id": "d777a3b9",
   "metadata": {},
   "source": [
    "# Implementando un modelo de regresión lineal\n",
    "\n",
    "La finalidad de este ejercicio es encontrar la línea recta que mejor se ajuste a los datos suministrados.\n",
    "\n",
    "Datos para el desarrollo del problema:\n",
    "\n",
    "### Hipótesis:  $h_w = w_0 + w_1x$\n",
    "La hipótesis es la curva que busca representar los datos, como se trata de una regresión lineal, la curva corresponde a una recta de la forma $y = mx + b$.\n",
    "### Parametros: $w_0, w_1$\n",
    "Los parámetros son los valores que modifican la curva, en este caso corresponden a la pendiente de la recta y su punto de corte con el eje $y$.\n",
    "### Función de pérdida: $J(w_0, w_1) = \\frac{1}{2m}\\sum_{i=1}^{m}(h_w(x^{(i)})-y^{(i)})^2$\n",
    "La función que determina cual es el error del modelo, corresponde a la **mitad del error cuadrático medio**\n"
   ]
  },
  {
   "cell_type": "code",
   "execution_count": 1,
   "id": "e14f27be",
   "metadata": {},
   "outputs": [],
   "source": [
    "import numpy as np\n",
    "import matplotlib.pyplot as plt\n",
    "import pandas as pd\n",
    "from sklearn.datasets._samples_generator import make_regression"
   ]
  },
  {
   "cell_type": "code",
   "execution_count": 2,
   "id": "2c2fc872",
   "metadata": {},
   "outputs": [],
   "source": [
    "X, y = make_regression(n_samples=200, n_features=1, n_informative=1, noise=6, bias=30, random_state=200)\n",
    "\n",
    "m = 200"
   ]
  },
  {
   "cell_type": "code",
   "execution_count": 3,
   "id": "887e3998",
   "metadata": {
    "scrolled": true
   },
   "outputs": [
    {
     "data": {
      "text/plain": [
       "<matplotlib.collections.PathCollection at 0x201e5f69360>"
      ]
     },
     "execution_count": 3,
     "metadata": {},
     "output_type": "execute_result"
    },
    {
     "data": {
      "image/png": "[encoded data removed]",
      "text/plain": [
       "<Figure size 432x288 with 1 Axes>"
      ]
     },
     "metadata": {
      "needs_background": "light"
     },
     "output_type": "display_data"
    }
   ],
   "source": [
    "plt.scatter(X, y, c=\"red\", marker=\".\")"
   ]
  },
  {
   "cell_type": "code",
   "execution_count": 4,
   "id": "410dcbd0",
   "metadata": {},
   "outputs": [],
   "source": [
    "def h(X, w):\n",
    "    return (w[1] * np.array(X[:, 0]) + w[0])"
   ]
  },
  {
   "cell_type": "code",
   "execution_count": 5,
   "id": "2e1f4308",
   "metadata": {},
   "outputs": [],
   "source": [
    "def cost(w, X, y):\n",
    "    return (.5 / m) * np.sum(np.square(h(X, w) - np.array(y)))"
   ]
  },
  {
   "cell_type": "code",
   "execution_count": 6,
   "id": "2096632c",
   "metadata": {},
   "outputs": [],
   "source": [
    "def grad(w, X, y):\n",
    "    g = [0] * 2\n",
    "    g[0] = (1 / m) * np.sum(h(X, w) - np.array(y))\n",
    "    g[1] = (1 / m) * np.sum((h(X, w) - np.array(y)) * np.array(X[:, 0]))\n",
    "    return g"
   ]
  },
  {
   "cell_type": "code",
   "execution_count": 7,
   "id": "5390c02d",
   "metadata": {},
   "outputs": [],
   "source": [
    "def descent(w_new, w_prev, lr):\n",
    "    print('initial w = ', w_prev)\n",
    "    print('initial cost = ', cost(w_prev, X, y))\n",
    "    print('\\nLearning process')\n",
    "    j = 0\n",
    "    while True:\n",
    "        w_prev = w_new\n",
    "        w0 = w_prev[0] - lr * grad(w_prev, X, y)[0]\n",
    "        w1 = w_prev[1] - lr * grad(w_prev, X, y)[1]\n",
    "        w_new = [w0, w1]\n",
    "        print('w = ', w_new)\n",
    "        print('cost = ', cost(w_new, X, y))\n",
    "        if (w_new[0] - w_prev[0]) ** 2 + (w_new[1] - w_prev[1]) ** 2 <= pow(10, -6):\n",
    "            return w_new\n",
    "        if j > 500:\n",
    "            return w_new\n",
    "        j += 1\n"
   ]
  },
  {
   "cell_type": "code",
   "execution_count": 8,
   "id": "9764bb52",
   "metadata": {},
   "outputs": [
    {
     "name": "stdout",
     "output_type": "stream",
     "text": [
      "initial w =  [5, -3]\n",
      "initial cost =  421.6616345483829\n",
      "\n",
      "Learning process\n",
      "w =  [7.6104403109258705, -1.7366929578005428]\n",
      "cost =  341.95131999064535\n",
      "w =  [9.950482151049, -0.6101417588286613]\n",
      "cost =  278.02511711436614\n",
      "w =  [12.048178006695508, 0.394367480335138]\n",
      "cost =  226.75660115249943\n",
      "w =  [13.928666163316294, 1.2899732450212915]\n",
      "cost =  185.63876005477658\n",
      "w =  [15.614473790962268, 2.088406636900821]\n",
      "cost =  152.6612502209177\n",
      "w =  [17.12578847711162, 2.800141526961584]\n",
      "cost =  126.21197977229772\n",
      "w =  [18.48070149437303, 3.4345287409182257]\n",
      "cost =  104.99819700047865\n",
      "w =  [19.69542574781269, 3.999915970560114]\n",
      "cost =  87.98321767190184\n",
      "w =  [20.784491039638176, 4.503754925322787]\n",
      "cost =  74.33569135180143\n",
      "w =  [21.760919013986175, 4.952697078081662]\n",
      "cost =  63.38892142457693\n",
      "w =  [22.636379898260255, 5.352679215815104]\n",
      "cost =  54.608246166107236\n",
      "w =  [23.421332936855855, 5.708999877580807]\n",
      "cost =  47.56488322384624\n",
      "w =  [24.12515221551065, 6.026387647596533]\n",
      "cost =  41.914956550516706\n",
      "w =  [24.756239397528496, 6.30906216868366]\n",
      "cost =  37.38267874380709\n",
      "w =  [25.32212473459328, 6.560788649640515]\n",
      "cost =  33.74686531577333\n",
      "w =  [25.829557572889332, 6.784926558117753]\n",
      "cost =  30.830120631432393\n",
      "w =  [26.28458744805251, 6.984473117246288]\n",
      "cost =  28.490166117237315\n",
      "w =  [26.692636748545667, 7.16210215870376]\n",
      "cost =  26.61288626124488\n",
      "w =  [27.058565825000333, 7.32019882627892]\n",
      "cost =  25.106752050477372\n",
      "w =  [27.38673133165393, 7.4608905715718]\n",
      "cost =  23.898348940241714\n",
      "w =  [27.681038504128665, 7.586074836595583]\n",
      "cost =  22.928790530549403\n",
      "w =  [27.9449880044505, 7.697443776137278]\n",
      "cost =  22.150842486450983\n",
      "w =  [28.181717898504, 7.7965063352640485]\n",
      "cost =  21.526616006817722\n",
      "w =  [28.39404127226383, 7.884607963861301]\n",
      "cost =  21.02571802338438\n",
      "w =  [28.584479940422415, 7.962948220137558]\n",
      "cost =  20.623767664506712\n",
      "w =  [28.755294653805734, 8.0325964882545]\n",
      "cost =  20.301206441123767\n",
      "w =  [28.908512169662824, 8.094506011302535]\n",
      "cost =  20.04234398380651\n",
      "w =  [29.04594951101603, 8.149526419442553]\n",
      "cost =  19.834592683442438\n",
      "w =  [29.169235707308793, 8.19841491390465]\n",
      "cost =  19.66785382843573\n",
      "w =  [29.279831278174253, 8.241846250434149]\n",
      "cost =  19.53402524080828\n",
      "w =  [29.379045694902313, 8.280421650489682]\n",
      "cost =  19.42660635508772\n",
      "w =  [29.468053029775042, 8.314676754834903]\n",
      "cost =  19.340381448271682\n",
      "w =  [29.547905981574406, 8.345088721953113]\n",
      "cost =  19.271165549711572\n",
      "w =  [29.619548445977397, 8.372082562798767]\n",
      "cost =  19.21560062348624\n",
      "w =  [29.68382678200458, 8.39603679364416]\n",
      "cost =  19.170992072691543\n",
      "w =  [29.74149990996602, 8.41728848006076]\n",
      "cost =  19.13517758529546\n",
      "w =  [29.793248362263316, 8.436137737282497]\n",
      "cost =  19.106421921211076\n",
      "w =  [29.8396823957875, 8.452851745234986]\n",
      "cost =  19.08333250732742\n",
      "w =  [29.88134926334694, 8.467668330291774]\n",
      "cost =  19.064791723399168\n",
      "w =  [29.918739731430577, 8.480799160258158]\n",
      "cost =  19.049902576635972\n",
      "w =  [29.952293922536807, 8.492432594114286]\n",
      "cost =  19.037945116407744\n",
      "w =  [29.982406552167973, 8.502736223609618]\n",
      "cost =  19.028341464654265\n",
      "w =  [30.00943162330557, 8.51185913983393]\n",
      "cost =  19.020627757984776\n",
      "w =  [30.0336866346546, 8.519933954345897]\n",
      "cost =  19.01443163462707\n",
      "w =  [30.055456353097608, 8.527078601273914]\n",
      "cost =  19.009454169816863\n",
      "w =  [30.07499619555923, 8.533397943975007]\n",
      "cost =  19.00545538012255\n",
      "w =  [30.09253526078745, 8.538985207310647]\n",
      "cost =  19.00224259117624\n",
      "w =  [30.108279047351104, 8.543923254340914]\n",
      "cost =  18.999661102828618\n",
      "w =  [30.12241189038407, 8.548285724222039]\n",
      "cost =  18.99758669767844\n",
      "w =  [30.135099146229223, 8.552138046291262]\n",
      "cost =  18.99591962871345\n",
      "w =  [30.146489151108987, 8.555538343714334]\n",
      "cost =  18.994579793822474\n",
      "w =  [30.156714977237552, 8.558538238634222]\n",
      "cost =  18.993502862713424\n",
      "w =  [30.165896007359976, 8.561183569476542]\n",
      "cost =  18.992637168119476\n",
      "w =  [30.174139346525937, 8.563515029921355]\n",
      "cost =  18.99194121035627\n",
      "w =  [30.181541087954677, 8.5655687380278]\n",
      "cost =  18.991381654121078\n",
      "w =  [30.18818744809927, 8.567376743084377]\n",
      "cost =  18.990931720355203\n",
      "w =  [30.194155784451347, 8.568967476941905]\n",
      "cost =  18.990569895189452\n",
      "w =  [30.199515508223378, 8.570366155857856]\n",
      "cost =  18.990278893396344\n",
      "w =  [30.20432890278716, 8.571595138230505]\n",
      "cost =  18.99004482613157\n",
      "w =  [30.208651857619554, 8.572674243020844]\n",
      "cost =  18.98985653266373\n",
      "w =  [30.212534526495794, 8.573621033142063]\n",
      "cost =  18.989705043748064\n",
      "w =  [30.216021917765072, 8.574451067633799]\n",
      "cost =  18.989583150684947\n",
      "w =  [30.219154423731275, 8.5751781260256]\n",
      "cost =  18.989485059227317\n",
      "w =  [30.221968295434287, 8.575814407925558]\n",
      "cost =  18.98940611161265\n",
      "w =  [30.224496068475275, 8.576370710541251]\n",
      "cost =  18.98934256329485\n",
      "w =  [30.226766944944952, 8.576856586546743]\n",
      "cost =  18.9892914035994\n",
      "w =  [30.228807135990046, 8.577280484447527]\n",
      "cost =  18.989250211650305\n",
      "w =  [30.23064016908376, 8.577649873361747]\n",
      "cost =  18.989217040623377\n",
      "w =  [30.23228716364522, 8.577971353927548]\n",
      "cost =  18.989190324749373\n",
      "w =  [30.23376707827574, 8.578250756860559]\n",
      "cost =  18.989168804589628\n",
      "w =  [30.235096932541662, 8.578493230519575]\n",
      "cost =  18.98915146698895\n",
      "w =  [30.236292005930522, 8.578703318690662]\n",
      "cost =  18.98913749681882\n",
      "w =  [30.237366016335617, 8.57888502966788]\n",
      "cost =  18.98912623819249\n",
      "w =  [30.238331280180606, 8.579041897591228]\n",
      "cost =  18.98911716328997\n",
      "\n",
      "final w =  [30.238331280180606, 8.579041897591228]\n",
      "final cost =  18.98911716328997\n"
     ]
    }
   ],
   "source": [
    "w = [5, -3]\n",
    "\n",
    "w = descent(w, w, .1)\n",
    "print('\\nfinal w = ', w)\n",
    "print('final cost = ', cost(w, X, y))"
   ]
  },
  {
   "cell_type": "code",
   "execution_count": 9,
   "id": "95e237e6",
   "metadata": {},
   "outputs": [],
   "source": [
    "def graph(formula, x_range):\n",
    "    x = np.array(x_range)\n",
    "    y = formula(x)\n",
    "    plt.plot(x, y)\n",
    "\n",
    "\n",
    "def my_formula(x):\n",
    "    return w[1] * x + w[0]"
   ]
  },
  {
   "cell_type": "code",
   "execution_count": 10,
   "id": "6780767b",
   "metadata": {},
   "outputs": [
    {
     "data": {
      "image/png": "[encoded data removed]",
      "text/plain": [
       "<Figure size 432x288 with 1 Axes>"
      ]
     },
     "metadata": {
      "needs_background": "light"
     },
     "output_type": "display_data"
    }
   ],
   "source": [
    "plt.scatter(X, y, c=\"red\", marker=\".\")\n",
    "graph(my_formula, range(-3, 4))\n",
    "plt.xlabel('X')\n",
    "plt.ylabel('Y')\n",
    "plt.show()"
   ]
  }
 ],
 "metadata": {
  "kernelspec": {
   "display_name": "Python 3 (ipykernel)",
   "language": "python",
   "name": "python3"
  },
  "language_info": {
   "codemirror_mode": {
    "name": "ipython",
    "version": 3
   },
   "file_extension": ".py",
   "mimetype": "text/x-python",
   "name": "python",
   "nbconvert_exporter": "python",
   "pygments_lexer": "ipython3",
   "version": "3.10.2"
  }
 },
 "nbformat": 4,
 "nbformat_minor": 5
}
