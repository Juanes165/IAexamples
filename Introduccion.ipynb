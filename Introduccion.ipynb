{
 "cells": [
  {
   "cell_type": "markdown",
   "id": "70ecc220",
   "metadata": {
    "slideshow": {
     "slide_type": "slide"
    }
   },
   "source": [
    "# Machine learning con Python\n",
    "\n",
    "Implementar modelos de machine learning desde cero puede resultar bastante complejo y repetitivo, es por esto que existen diferentes librerías en varios lenguajes de programación que facilitan este trabajo. La mayoría disponen de una serie de funciones específicas para cada modelo que se quiera implementar.\n"
   ]
  },
  {
   "cell_type": "markdown",
   "id": "4122242f",
   "metadata": {
    "slideshow": {
     "slide_type": "slide"
    }
   },
   "source": [
    "# Importando datos\n",
    "La mayoría de veces, los datos se encontrarán en formato CSV (comma separated values), para leerlos e importarlos se hace uso de la librería Pandas"
   ]
  },
  {
   "cell_type": "code",
   "execution_count": 1,
   "id": "9238572c",
   "metadata": {
    "slideshow": {
     "slide_type": "subslide"
    }
   },
   "outputs": [
    {
     "data": {
      "text/html": [
       "<div>\n",
       "<style scoped>\n",
       "    .dataframe tbody tr th:only-of-type {\n",
       "        vertical-align: middle;\n",
       "    }\n",
       "\n",
       "    .dataframe tbody tr th {\n",
       "        vertical-align: top;\n",
       "    }\n",
       "\n",
       "    .dataframe thead th {\n",
       "        text-align: right;\n",
       "    }\n",
       "</style>\n",
       "<table border=\"1\" class=\"dataframe\">\n",
       "  <thead>\n",
       "    <tr style=\"text-align: right;\">\n",
       "      <th></th>\n",
       "      <th>0</th>\n",
       "      <th>1</th>\n",
       "    </tr>\n",
       "  </thead>\n",
       "  <tbody>\n",
       "    <tr>\n",
       "      <th>count</th>\n",
       "      <td>100.000000</td>\n",
       "      <td>100.000000</td>\n",
       "    </tr>\n",
       "    <tr>\n",
       "      <th>mean</th>\n",
       "      <td>48.958341</td>\n",
       "      <td>72.735051</td>\n",
       "    </tr>\n",
       "    <tr>\n",
       "      <th>std</th>\n",
       "      <td>9.746379</td>\n",
       "      <td>16.658187</td>\n",
       "    </tr>\n",
       "    <tr>\n",
       "      <th>min</th>\n",
       "      <td>25.128485</td>\n",
       "      <td>31.707006</td>\n",
       "    </tr>\n",
       "    <tr>\n",
       "      <th>25%</th>\n",
       "      <td>41.526164</td>\n",
       "      <td>60.788586</td>\n",
       "    </tr>\n",
       "    <tr>\n",
       "      <th>50%</th>\n",
       "      <td>49.634970</td>\n",
       "      <td>72.179542</td>\n",
       "    </tr>\n",
       "    <tr>\n",
       "      <th>75%</th>\n",
       "      <td>56.762631</td>\n",
       "      <td>83.215080</td>\n",
       "    </tr>\n",
       "    <tr>\n",
       "      <th>max</th>\n",
       "      <td>70.346076</td>\n",
       "      <td>118.591217</td>\n",
       "    </tr>\n",
       "  </tbody>\n",
       "</table>\n",
       "</div>"
      ],
      "text/plain": [
       "                0           1\n",
       "count  100.000000  100.000000\n",
       "mean    48.958341   72.735051\n",
       "std      9.746379   16.658187\n",
       "min     25.128485   31.707006\n",
       "25%     41.526164   60.788586\n",
       "50%     49.634970   72.179542\n",
       "75%     56.762631   83.215080\n",
       "max     70.346076  118.591217"
      ]
     },
     "execution_count": 1,
     "metadata": {},
     "output_type": "execute_result"
    }
   ],
   "source": [
    "#Importamos la librería pandas\n",
    "import pandas as pd\n",
    "\n",
    "# Creamos una variable para almacenar los datos\n",
    "data = pd.read_csv(\"data.csv\", header = None)\n",
    "\n",
    "# Obtenemos estadísticas de los datos\n",
    "data.describe()"
   ]
  },
  {
   "cell_type": "markdown",
   "id": "e01b461e",
   "metadata": {
    "slideshow": {
     "slide_type": "slide"
    }
   },
   "source": [
    "# Creando modelos de machine learning\n",
    "\n",
    "Para crear un modelo de machine learning utilizamos la librería scikit-learn, esta librería contiene varios algoritmos para clasificación, regresión y agrupamiento, además de varios conjuntos de datos para practicar."
   ]
  },
  {
   "cell_type": "code",
   "execution_count": 2,
   "id": "a4237bae",
   "metadata": {
    "slideshow": {
     "slide_type": "subslide"
    }
   },
   "outputs": [],
   "source": [
    "# Importamos la librería numpy para el manejo de arrays\n",
    "import numpy\n",
    "\n",
    "# Importamos la librería scikit-learn para el modelo de regresión\n",
    "from sklearn.linear_model import LinearRegression\n",
    "\n",
    "# Creamos dos conjuntos de datos, uno para cada columna \n",
    "# de la tabla de datos y los arreglamos en arrays de numpy\n",
    "X = data.iloc[:, 0].values.reshape(-1, 1)\n",
    "Y = data.iloc[:, 1].values.reshape(-1, 1)\n",
    "\n",
    "# Creamos el modelo de machine learning\n",
    "linear_regressor = LinearRegression()\n",
    "\n",
    "# Entrenamos el modelo acorde a los datos\n",
    "linear_regressor.fit(X, Y)\n",
    "\n",
    "# Con el modelo entrenado, podemos hacer una predicción\n",
    "Y_pred = linear_regressor.predict(X)"
   ]
  },
  {
   "cell_type": "markdown",
   "id": "ac5034f7",
   "metadata": {
    "slideshow": {
     "slide_type": "slide"
    }
   },
   "source": [
    "# Visualizando los datos\n",
    "Para visualizar los datos se utiliza la librería matplotlib, que posee varios componentes y funciones para realizar gráficas de distintos conjuntos de datos y funciones matemáticas."
   ]
  },
  {
   "cell_type": "code",
   "execution_count": 3,
   "id": "fc8d9739",
   "metadata": {
    "slideshow": {
     "slide_type": "subslide"
    }
   },
   "outputs": [
    {
     "data": {
      "image/png": "[encoded data removed]",
      "text/plain": [
       "<Figure size 432x288 with 1 Axes>"
      ]
     },
     "metadata": {
      "needs_background": "light"
     },
     "output_type": "display_data"
    }
   ],
   "source": [
    "# Importamos la librería matplotlib para graficar la predicción\n",
    "import matplotlib.pyplot as plt\n",
    "\n",
    "# Graficamos los datos y la predicción realizada\n",
    "plt.scatter(X, Y)\n",
    "plt.plot(X, Y_pred, color='red')\n",
    "plt.show()"
   ]
  },
  {
   "cell_type": "markdown",
   "id": "7c12eb38",
   "metadata": {
    "slideshow": {
     "slide_type": "slide"
    }
   },
   "source": [
    "# Otros usos de la librería\n",
    "La librería scikit-learn también incluye conjuntos de datos predefinidos y permite la creación de conjuntos de datos aleatorios."
   ]
  },
  {
   "cell_type": "markdown",
   "id": "f21bc8c4",
   "metadata": {
    "slideshow": {
     "slide_type": "slide"
    }
   },
   "source": [
    "# Creación de un conjunto de datos aleatorio\n",
    "Existe una función para crear conjuntos de datos simples, ya sea para probar modelos de machine learning o para practicar."
   ]
  },
  {
   "cell_type": "code",
   "execution_count": 5,
   "id": "1a9fbdd9",
   "metadata": {
    "slideshow": {
     "slide_type": "subslide"
    }
   },
   "outputs": [
    {
     "data": {
      "image/png": "[encoded data removed]",
      "text/plain": [
       "<Figure size 432x288 with 1 Axes>"
      ]
     },
     "metadata": {
      "needs_background": "light"
     },
     "output_type": "display_data"
    }
   ],
   "source": [
    "# Importamos la función\n",
    "from sklearn.datasets._samples_generator import make_regression\n",
    "\n",
    "# Creación de una regresión\n",
    "X, Y = make_regression(n_samples=200, n_features=1, n_informative=1, noise=6, bias=30, random_state=200)\n",
    "\n",
    "# Gráfica de la regresión\n",
    "plt.scatter(X, Y)\n",
    "plt.show()"
   ]
  },
  {
   "cell_type": "markdown",
   "id": "85913aaf",
   "metadata": {
    "slideshow": {
     "slide_type": "subslide"
    }
   },
   "source": [
    "Estos datos se pueden usar para entrenar un modelo de machine learning también"
   ]
  },
  {
   "cell_type": "code",
   "execution_count": 7,
   "id": "3f460a7f",
   "metadata": {},
   "outputs": [
    {
     "data": {
      "image/png": "[encoded data removed]",
      "text/plain": [
       "<Figure size 432x288 with 1 Axes>"
      ]
     },
     "metadata": {
      "needs_background": "light"
     },
     "output_type": "display_data"
    }
   ],
   "source": [
    "# Entrenamos el modelo creado anteriormente con los nuevos datos\n",
    "# y realizamos una predicción\n",
    "linear_regressor.fit(X, Y)\n",
    "Y_pred = linear_regressor.predict(X)\n",
    "\n",
    "# Graficamos el nuevo resultado\n",
    "plt.scatter(X, Y)\n",
    "plt.plot(X, Y_pred, color='red')\n",
    "plt.show()"
   ]
  },
  {
   "cell_type": "markdown",
   "id": "8da3b2c7",
   "metadata": {
    "slideshow": {
     "slide_type": "slide"
    }
   },
   "source": [
    "# Uso de conjuntos de datos para entrenamiento y prueba\n",
    "Para probar la eficacia del modelo de machine learning que hemos entrenado es bueno tener un conjunto de datos especifico para pruebas. Hasta ahora los modelos que han sido creados han hecho predicciones usando los mismos datos de entrenamiento, sin embargo, la función encargada de realizar la predicción recibe como parámetro cualquier conjunto de datos, por lo que se debe usar un conjunto de prueba."
   ]
  },
  {
   "cell_type": "markdown",
   "id": "12e67d80",
   "metadata": {
    "slideshow": {
     "slide_type": "subslide"
    }
   },
   "source": [
    "## Importación de conjuntos de datos predefinidos\n",
    "A continuación vamos a importar un conjunto de datos llamado \"diabetes\" y la librería Numpy para el manejo de arreglos ya que de esta forma se encuentran distribuidos los datos."
   ]
  },
  {
   "cell_type": "code",
   "execution_count": 19,
   "id": "90a21b4b",
   "metadata": {},
   "outputs": [],
   "source": [
    "# Importación de los conjuntos de datos y la librería numpy para el manejo de arrays\n",
    "import numpy as np\n",
    "from sklearn import datasets\n",
    "\n",
    "# Cargamos los datos\n",
    "X, Y = datasets.load_diabetes(return_X_y=True)\n",
    "\n",
    "# Escogemos solo una columna de la matriz de datos del conjunto\n",
    "X = X[:, np.newaxis,2]"
   ]
  },
  {
   "cell_type": "markdown",
   "id": "2f263b13",
   "metadata": {
    "slideshow": {
     "slide_type": "subslide"
    }
   },
   "source": [
    "Usamos una parte del conjunto de datos para entrenar el modelo y la otra para probarlo"
   ]
  },
  {
   "cell_type": "code",
   "execution_count": 22,
   "id": "a65b8a89",
   "metadata": {
    "slideshow": {
     "slide_type": "-"
    }
   },
   "outputs": [
    {
     "data": {
      "image/png": "[encoded data removed]",
      "text/plain": [
       "<Figure size 432x288 with 1 Axes>"
      ]
     },
     "metadata": {
      "needs_background": "light"
     },
     "output_type": "display_data"
    }
   ],
   "source": [
    "# Dividimos los datos en conjuntos de entrenamiento y prueba\n",
    "# Para X (datos)\n",
    "X_train = X[:-20]    # Se dejan los últimos 20 datos del conjunto para prueba\n",
    "X_test = X[-20:]\n",
    "# Para Y (objetivo)\n",
    "Y_train = Y[:-20]\n",
    "Y_test = Y[-20:]\n",
    "\n",
    "# Entrenamos el modelo y realizamos la predicción\n",
    "linear_regressor.fit(X_train, Y_train)\n",
    "Y_pred = linear_regressor.predict(X_test)\n",
    "\n",
    "# Graficamos los resultados\n",
    "plt.scatter(X_test, Y_test)\n",
    "plt.plot(X_test, Y_pred, color='red')\n",
    "plt.show()"
   ]
  },
  {
   "cell_type": "markdown",
   "id": "47d45927",
   "metadata": {
    "slideshow": {
     "slide_type": "slide"
    }
   },
   "source": [
    "# Documentación\n",
    "Para encontrar más información acerca del uso de las librerías a continuación se presenta su documentación:\n",
    "#### Pandas: https://pandas.pydata.org/docs/\n",
    "#### Scikit-learn: https://scikit-learn.org/stable/\n",
    "#### Matplotlib: https://matplotlib.org"
   ]
  }
 ],
 "metadata": {
  "celltoolbar": "Slideshow",
  "kernelspec": {
   "display_name": "Python 3 (ipykernel)",
   "language": "python",
   "name": "python3"
  },
  "language_info": {
   "codemirror_mode": {
    "name": "ipython",
    "version": 3
   },
   "file_extension": ".py",
   "mimetype": "text/x-python",
   "name": "python",
   "nbconvert_exporter": "python",
   "pygments_lexer": "ipython3",
   "version": "3.10.2"
  }
 },
 "nbformat": 4,
 "nbformat_minor": 5
}
